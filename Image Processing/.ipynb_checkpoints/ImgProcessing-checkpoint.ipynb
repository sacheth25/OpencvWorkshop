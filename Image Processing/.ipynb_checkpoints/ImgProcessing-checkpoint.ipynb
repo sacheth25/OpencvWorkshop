{
 "cells": [
  {
   "cell_type": "markdown",
   "metadata": {},
   "source": [
    "<h1>This is an intro into image processing\n",
    "</h1>"
   ]
  },
  {
   "cell_type": "markdown",
   "metadata": {},
   "source": [
    "<h3>Concepts you will learn</h3>\n",
    "<ul>\n",
    "    <li><a #href=\"1.\">1.</a> Data types and structures</li>\n",
    "    <li>Image types and color channels</li>\n",
    "    <li>Pixel maniuplation and filtering</li>\n",
    "    <li>Blur, dialation, and erosion</li>\n",
    "    <li>Scale and rotate images</li>\n",
    "</ul>"
   ]
  },
  {
   "cell_type": "markdown",
   "metadata": {},
   "source": [
    "<h3 id=\"1.\">1. Getting Started with OpenCV\n",
    "</h3>\n",
    "<p>We need to import <b>cv2</b> which is the library name, and numpy since <b>cv2</b> uses numpy arrays</p>\n"
   ]
  },
  {
   "cell_type": "code",
   "execution_count": 2,
   "metadata": {},
   "outputs": [],
   "source": [
    "import numpy as np\n",
    "import cv2"
   ]
  },
  {
   "cell_type": "markdown",
   "metadata": {},
   "source": [
    "<p>1.1 To read an image we use the <b>imread</b> functio inside <b>cv2</b> library</p>\n",
    "<p>Note: This function will return <b>None</b> if it cannot find the image</p>"
   ]
  },
  {
   "cell_type": "code",
   "execution_count": 3,
   "metadata": {},
   "outputs": [],
   "source": [
    "image = cv2.imread(\"butterfly.jpg\")"
   ]
  },
  {
   "cell_type": "markdown",
   "metadata": {},
   "source": [
    "<p>1.2 If we print out <b>image</b> we will see the array of pixels</p>\n",
    "<p>Similarly, if we print out the type we will see that it is a numpy array</p>"
   ]
  },
  {
   "cell_type": "code",
   "execution_count": 4,
   "metadata": {},
   "outputs": [
    {
     "name": "stdout",
     "output_type": "stream",
     "text": [
      "[[[ 47  88  50]\n",
      "  [ 47  88  50]\n",
      "  [ 48  87  49]\n",
      "  ...\n",
      "  [170 150 145]\n",
      "  [172 151 154]\n",
      "  [174 150 162]]\n",
      "\n",
      " [[ 50  91  53]\n",
      "  [ 48  89  51]\n",
      "  [ 46  85  47]\n",
      "  ...\n",
      "  [171 150 149]\n",
      "  [173 151 156]\n",
      "  [174 151 165]]\n",
      "\n",
      " [[ 53  94  56]\n",
      "  [ 48  89  51]\n",
      "  [ 43  82  44]\n",
      "  ...\n",
      "  [168 149 152]\n",
      "  [171 152 161]\n",
      "  [172 153 168]]\n",
      "\n",
      " ...\n",
      "\n",
      " [[ 43 123  58]\n",
      "  [ 44 122  58]\n",
      "  [ 46 121  59]\n",
      "  ...\n",
      "  [103 223 218]\n",
      "  [ 94 214 203]\n",
      "  [ 88 205 190]]\n",
      "\n",
      " [[ 41 121  56]\n",
      "  [ 42 120  56]\n",
      "  [ 45 120  58]\n",
      "  ...\n",
      "  [103 223 218]\n",
      "  [ 95 217 206]\n",
      "  [ 92 209 194]]\n",
      "\n",
      " [[ 45 125  60]\n",
      "  [ 46 124  60]\n",
      "  [ 49 124  62]\n",
      "  ...\n",
      "  [103 223 218]\n",
      "  [ 97 219 208]\n",
      "  [ 96 213 198]]]\n"
     ]
    },
    {
     "data": {
      "text/plain": [
       "numpy.ndarray"
      ]
     },
     "execution_count": 4,
     "metadata": {},
     "output_type": "execute_result"
    }
   ],
   "source": [
    "print(image)\n",
    "type(image)"
   ]
  },
  {
   "cell_type": "markdown",
   "metadata": {},
   "source": [
    "<p>We can also see the shape of the array by doing this:</p>"
   ]
  },
  {
   "cell_type": "code",
   "execution_count": 5,
   "metadata": {},
   "outputs": [
    {
     "data": {
      "text/plain": [
       "(356, 493, 3)"
      ]
     },
     "execution_count": 5,
     "metadata": {},
     "output_type": "execute_result"
    }
   ],
   "source": [
    "image.shape"
   ]
  },
  {
   "cell_type": "markdown",
   "metadata": {},
   "source": [
    "<p>In this case the first value is the number of rows, the second is the number of columns, and the third value is the number of color channels (red, green, blue).</p>"
   ]
  },
  {
   "cell_type": "markdown",
   "metadata": {},
   "source": [
    "<p>Since <b>imshow</b> works with np arrays, we could create any sort of image we want, if we specifiy the correct dimensions.</p> <p>For example, if we wanted to create an all black image we could do:</p>"
   ]
  },
  {
   "cell_type": "code",
   "execution_count": 8,
   "metadata": {},
   "outputs": [],
   "source": [
    "blackImage = np.zeros([150,200,1],'uint8')\n",
    "cv2.imshow(\"Black\",blackImage)\n",
    "blkImage = np.zeros([150,200,3],'uint8') #Another way to make a black image\n",
    "blkImage[:,:] = (0,0,0) # Sets the color channels to the rgb format for black\n",
    "cv2.imshow(\"Blk\",blkImage)\n",
    "cv2.waitKey(0)\n",
    "cv2.destroyAllWindows()"
   ]
  },
  {
   "cell_type": "markdown",
   "metadata": {},
   "source": [
    "<h3>2. Pixel maniuplation and filtering </h3>"
   ]
  },
  {
   "cell_type": "code",
   "execution_count": null,
   "metadata": {},
   "outputs": [],
   "source": []
  },
  {
   "cell_type": "code",
   "execution_count": null,
   "metadata": {},
   "outputs": [],
   "source": []
  }
 ],
 "metadata": {
  "kernelspec": {
   "display_name": "Python 3",
   "language": "python",
   "name": "python3"
  },
  "language_info": {
   "codemirror_mode": {
    "name": "ipython",
    "version": 3
   },
   "file_extension": ".py",
   "mimetype": "text/x-python",
   "name": "python",
   "nbconvert_exporter": "python",
   "pygments_lexer": "ipython3",
   "version": "3.7.3"
  }
 },
 "nbformat": 4,
 "nbformat_minor": 4
}
